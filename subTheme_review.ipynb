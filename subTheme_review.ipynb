{
  "nbformat": 4,
  "nbformat_minor": 0,
  "metadata": {
    "colab": {
      "name": "summarization.ipynb",
      "provenance": [],
      "collapsed_sections": [],
      "include_colab_link": true
    },
    "kernelspec": {
      "name": "python3",
      "display_name": "Python 3"
    }
  },
  "cells": [
    {
      "cell_type": "markdown",
      "metadata": {
        "id": "view-in-github",
        "colab_type": "text"
      },
      "source": [
        "<a href=\"https://colab.research.google.com/github/zamirsiddiqui/subtheme-sentiments/blob/master/subTheme_review.ipynb\" target=\"_parent\"><img src=\"https://colab.research.google.com/assets/colab-badge.svg\" alt=\"Open In Colab\"/></a>"
      ]
    },
    {
      "cell_type": "code",
      "metadata": {
        "id": "5EeDk7swX-bG",
        "colab_type": "code",
        "colab": {
          "base_uri": "https://localhost:8080/",
          "height": 62
        },
        "outputId": "854671a8-6b1c-42f1-ccd1-911c58576ab9"
      },
      "source": [
        "#import the libraries\n",
        "import pandas as pd\n",
        "from sklearn.model_selection import train_test_split\n",
        "import tensorflow as tf \n",
        "import numpy as np\n",
        "import nltk\n",
        "from nltk.corpus import stopwords #provides list of english stopwords\n",
        "from bs4 import BeautifulSoup\n",
        "import re\n",
        "import httpimport"
      ],
      "execution_count": 1,
      "outputs": [
        {
          "output_type": "display_data",
          "data": {
            "text/html": [
              "<p style=\"color: red;\">\n",
              "The default version of TensorFlow in Colab will soon switch to TensorFlow 2.x.<br>\n",
              "We recommend you <a href=\"https://www.tensorflow.org/guide/migrate\" target=\"_blank\">upgrade</a> now \n",
              "or ensure your notebook will continue to use TensorFlow 1.x via the <code>%tensorflow_version 1.x</code> magic:\n",
              "<a href=\"https://colab.research.google.com/notebooks/tensorflow_version.ipynb\" target=\"_blank\">more info</a>.</p>\n"
            ],
            "text/plain": [
              "<IPython.core.display.HTML object>"
            ]
          },
          "metadata": {
            "tags": []
          }
        }
      ]
    },
    {
      "cell_type": "code",
      "metadata": {
        "id": "wJCMxOkVPGFW",
        "colab_type": "code",
        "colab": {
          "base_uri": "https://localhost:8080/",
          "height": 34
        },
        "outputId": "35ae4ad0-73d0-448e-dee9-326ec059d684"
      },
      "source": [
        "from keras.preprocessing.text import Tokenizer \n",
        "from keras.preprocessing.sequence import pad_sequences\n",
        "from nltk.corpus import stopwords\n",
        "from tensorflow.keras.layers import Input, LSTM, Embedding, Dense, Concatenate, TimeDistributed\n",
        "from tensorflow.keras.models import Model\n",
        "from tensorflow.keras.callbacks import EarlyStopping\n",
        "import warnings\n",
        "pd.set_option(\"display.max_colwidth\", 200)\n",
        "warnings.filterwarnings(\"ignore\")"
      ],
      "execution_count": 2,
      "outputs": [
        {
          "output_type": "stream",
          "text": [
            "Using TensorFlow backend.\n"
          ],
          "name": "stderr"
        }
      ]
    },
    {
      "cell_type": "code",
      "metadata": {
        "id": "lp0ODcLpSLW9",
        "colab_type": "code",
        "colab": {}
      },
      "source": [
        "#import the attention layer (upload attention.py in session)\n",
        "from attention import AttentionLayer"
      ],
      "execution_count": 0,
      "outputs": []
    },
    {
      "cell_type": "code",
      "metadata": {
        "id": "foIiVA8d2olg",
        "colab_type": "code",
        "outputId": "ccad5fb1-b573-45f0-e34e-0d0500b09f1e",
        "colab": {
          "base_uri": "https://localhost:8080/",
          "height": 50
        }
      },
      "source": [
        "#fetch stop words\n",
        "nltk.download('stopwords')\n",
        "stop = stopwords.words('english')"
      ],
      "execution_count": 4,
      "outputs": [
        {
          "output_type": "stream",
          "text": [
            "[nltk_data] Downloading package stopwords to /root/nltk_data...\n",
            "[nltk_data]   Package stopwords is already up-to-date!\n"
          ],
          "name": "stdout"
        }
      ]
    },
    {
      "cell_type": "code",
      "metadata": {
        "id": "yDKW0n0PYoXm",
        "colab_type": "code",
        "colab": {}
      },
      "source": [
        "# Read files from github and combined all the sentiment in single column\n",
        "url = 'https://raw.githubusercontent.com/zamirsiddiqui/subtheme-sentiments/master/Evaluation-dataset.csv'\n",
        "raw_data = pd.read_csv(url, header = None)\n",
        "raw_data_subset = raw_data[raw_data.columns[0:4]]\n",
        "raw_data_subset.fillna('', inplace = True)\n",
        "raw_data_subset['sentiment']=raw_data_subset.apply(lambda x:'%s %s %s' % (x[1],x[2],x[3]),axis=1)\n",
        "raw_data_subset = raw_data_subset[[0,'sentiment']]\n",
        "raw_data_subset.columns = ['review', 'sentiments']"
      ],
      "execution_count": 0,
      "outputs": []
    },
    {
      "cell_type": "code",
      "metadata": {
        "id": "__Ro3XGcbCWT",
        "colab_type": "code",
        "outputId": "75cdf80d-6420-42d2-c12a-9e205f512bff",
        "colab": {
          "base_uri": "https://localhost:8080/",
          "height": 246
        }
      },
      "source": [
        "#set max width to display\n",
        "pd.set_option('display.max_colwidth', -1)\n",
        "raw_data_subset.head()"
      ],
      "execution_count": 9,
      "outputs": [
        {
          "output_type": "execute_result",
          "data": {
            "text/html": [
              "<div>\n",
              "<style scoped>\n",
              "    .dataframe tbody tr th:only-of-type {\n",
              "        vertical-align: middle;\n",
              "    }\n",
              "\n",
              "    .dataframe tbody tr th {\n",
              "        vertical-align: top;\n",
              "    }\n",
              "\n",
              "    .dataframe thead th {\n",
              "        text-align: right;\n",
              "    }\n",
              "</style>\n",
              "<table border=\"1\" class=\"dataframe\">\n",
              "  <thead>\n",
              "    <tr style=\"text-align: right;\">\n",
              "      <th></th>\n",
              "      <th>review</th>\n",
              "      <th>sentiments</th>\n",
              "    </tr>\n",
              "  </thead>\n",
              "  <tbody>\n",
              "    <tr>\n",
              "      <th>0</th>\n",
              "      <td>Tires where delivered to the garage of my choice,the garage notified me when they had been delivered. A day and time was arranged with the garage and I went and had them fitted,a Hassel free experience.</td>\n",
              "      <td>garage service positive ease of booking positive</td>\n",
              "    </tr>\n",
              "    <tr>\n",
              "      <th>1</th>\n",
              "      <td>Easy Tyre Selection Process, Competitive Pricing and Excellent Fitting Service</td>\n",
              "      <td>garage service positive value for money positive</td>\n",
              "    </tr>\n",
              "    <tr>\n",
              "      <th>2</th>\n",
              "      <td>Very easy to use and good value for money.</td>\n",
              "      <td>value for money positive</td>\n",
              "    </tr>\n",
              "    <tr>\n",
              "      <th>3</th>\n",
              "      <td>Really easy and convenient to arrange</td>\n",
              "      <td>ease of booking positive</td>\n",
              "    </tr>\n",
              "    <tr>\n",
              "      <th>4</th>\n",
              "      <td>It was so easy to select tyre sizes and arrange local fitting. The prices were competitive</td>\n",
              "      <td>location positive value for money positive ease of booking positive</td>\n",
              "    </tr>\n",
              "  </tbody>\n",
              "</table>\n",
              "</div>"
            ],
            "text/plain": [
              "                                                                                                                                                                                                       review                                                           sentiments\n",
              "0  Tires where delivered to the garage of my choice,the garage notified me when they had been delivered. A day and time was arranged with the garage and I went and had them fitted,a Hassel free experience.  garage service positive ease of booking positive                   \n",
              "1  Easy Tyre Selection Process, Competitive Pricing and Excellent Fitting Service                                                                                                                              garage service positive value for money positive                   \n",
              "2  Very easy to use and good value for money.                                                                                                                                                                  value for money positive                                           \n",
              "3  Really easy and convenient to arrange                                                                                                                                                                       ease of booking positive                                           \n",
              "4  It was so easy to select tyre sizes and arrange local fitting. The prices were competitive                                                                                                                  location positive value for money positive ease of booking positive"
            ]
          },
          "metadata": {
            "tags": []
          },
          "execution_count": 9
        }
      ]
    },
    {
      "cell_type": "code",
      "metadata": {
        "id": "84T4Bocl1EsN",
        "colab_type": "code",
        "outputId": "81caf9a6-f4a0-4042-a8ec-d647abccafbd",
        "colab": {
          "base_uri": "https://localhost:8080/",
          "height": 134
        }
      },
      "source": [
        "raw_data_subset.info()"
      ],
      "execution_count": 10,
      "outputs": [
        {
          "output_type": "stream",
          "text": [
            "<class 'pandas.core.frame.DataFrame'>\n",
            "RangeIndex: 10132 entries, 0 to 10131\n",
            "Data columns (total 2 columns):\n",
            "review        10132 non-null object\n",
            "sentiments    10132 non-null object\n",
            "dtypes: object(2)\n",
            "memory usage: 158.4+ KB\n"
          ],
          "name": "stdout"
        }
      ]
    },
    {
      "cell_type": "code",
      "metadata": {
        "id": "iS4lCArI1q1v",
        "colab_type": "code",
        "colab": {}
      },
      "source": [
        "contraction_mapping = {\"ain't\": \"is not\", \"aren't\": \"are not\",\"can't\": \"cannot\", \"'cause\": \"because\", \"could've\": \"could have\", \"couldn't\": \"could not\",\n",
        "                           \"didn't\": \"did not\",  \"doesn't\": \"does not\", \"don't\": \"do not\", \"hadn't\": \"had not\", \"hasn't\": \"has not\", \"haven't\": \"have not\",\n",
        "                           \"he'd\": \"he would\",\"he'll\": \"he will\", \"he's\": \"he is\", \"how'd\": \"how did\", \"how'd'y\": \"how do you\", \"how'll\": \"how will\", \"how's\": \"how is\",\n",
        "                           \"I'd\": \"I would\", \"I'd've\": \"I would have\", \"I'll\": \"I will\", \"I'll've\": \"I will have\",\"I'm\": \"I am\", \"I've\": \"I have\", \"i'd\": \"i would\",\n",
        "                           \"i'd've\": \"i would have\", \"i'll\": \"i will\",  \"i'll've\": \"i will have\",\"i'm\": \"i am\", \"i've\": \"i have\", \"isn't\": \"is not\", \"it'd\": \"it would\",\n",
        "                           \"it'd've\": \"it would have\", \"it'll\": \"it will\", \"it'll've\": \"it will have\",\"it's\": \"it is\", \"let's\": \"let us\", \"ma'am\": \"madam\",\n",
        "                           \"mayn't\": \"may not\", \"might've\": \"might have\",\"mightn't\": \"might not\",\"mightn't've\": \"might not have\", \"must've\": \"must have\",\n",
        "                           \"mustn't\": \"must not\", \"mustn't've\": \"must not have\", \"needn't\": \"need not\", \"needn't've\": \"need not have\",\"o'clock\": \"of the clock\",\n",
        "                           \"oughtn't\": \"ought not\", \"oughtn't've\": \"ought not have\", \"shan't\": \"shall not\", \"sha'n't\": \"shall not\", \"shan't've\": \"shall not have\",\n",
        "                           \"she'd\": \"she would\", \"she'd've\": \"she would have\", \"she'll\": \"she will\", \"she'll've\": \"she will have\", \"she's\": \"she is\",\n",
        "                           \"should've\": \"should have\", \"shouldn't\": \"should not\", \"shouldn't've\": \"should not have\", \"so've\": \"so have\",\"so's\": \"so as\",\n",
        "                           \"this's\": \"this is\",\"that'd\": \"that would\", \"that'd've\": \"that would have\", \"that's\": \"that is\", \"there'd\": \"there would\",\n",
        "                           \"there'd've\": \"there would have\", \"there's\": \"there is\", \"here's\": \"here is\",\"they'd\": \"they would\", \"they'd've\": \"they would have\",\n",
        "                           \"they'll\": \"they will\", \"they'll've\": \"they will have\", \"they're\": \"they are\", \"they've\": \"they have\", \"to've\": \"to have\",\n",
        "                           \"wasn't\": \"was not\", \"we'd\": \"we would\", \"we'd've\": \"we would have\", \"we'll\": \"we will\", \"we'll've\": \"we will have\", \"we're\": \"we are\",\n",
        "                           \"we've\": \"we have\", \"weren't\": \"were not\", \"what'll\": \"what will\", \"what'll've\": \"what will have\", \"what're\": \"what are\",\n",
        "                           \"what's\": \"what is\", \"what've\": \"what have\", \"when's\": \"when is\", \"when've\": \"when have\", \"where'd\": \"where did\", \"where's\": \"where is\",\n",
        "                           \"where've\": \"where have\", \"who'll\": \"who will\", \"who'll've\": \"who will have\", \"who's\": \"who is\", \"who've\": \"who have\",\n",
        "                           \"why's\": \"why is\", \"why've\": \"why have\", \"will've\": \"will have\", \"won't\": \"will not\", \"won't've\": \"will not have\",\n",
        "                           \"would've\": \"would have\", \"wouldn't\": \"would not\", \"wouldn't've\": \"would not have\", \"y'all\": \"you all\",\n",
        "                           \"y'all'd\": \"you all would\",\"y'all'd've\": \"you all would have\",\"y'all're\": \"you all are\",\"y'all've\": \"you all have\",\n",
        "                           \"you'd\": \"you would\", \"you'd've\": \"you would have\", \"you'll\": \"you will\", \"you'll've\": \"you will have\",\n",
        "                           \"you're\": \"you are\", \"you've\": \"you have\"}"
      ],
      "execution_count": 0,
      "outputs": []
    },
    {
      "cell_type": "code",
      "metadata": {
        "id": "OwsXF4yU14kB",
        "colab_type": "code",
        "colab": {}
      },
      "source": [
        "#text cleaning\n",
        "def text_cleaner(text,num):\n",
        "    newString = text.lower()\n",
        "    newString = BeautifulSoup(newString, \"lxml\").text\n",
        "    newString = re.sub(r'\\([^)]*\\)', '', newString)\n",
        "    newString = re.sub('\"','', newString)\n",
        "    newString = ' '.join([contraction_mapping[t] if t in contraction_mapping else t for t in newString.split(\" \")])    \n",
        "    newString = re.sub(r\"'s\\b\",\"\",newString)\n",
        "    newString = re.sub(\"[^a-zA-Z]\", \" \", newString) \n",
        "    newString = re.sub('[m]{2,}', 'mm', newString)\n",
        "    if(num==0):\n",
        "        tokens = [w for w in newString.split() if not w in stop]\n",
        "    else:\n",
        "        tokens=newString.split()\n",
        "    long_words=[]\n",
        "    for i in tokens:\n",
        "        if len(i)>1:                                                 #removing short word\n",
        "            long_words.append(i)   \n",
        "    return (\" \".join(long_words)).strip()"
      ],
      "execution_count": 0,
      "outputs": []
    },
    {
      "cell_type": "code",
      "metadata": {
        "id": "QFcYo9JA2M7K",
        "colab_type": "code",
        "colab": {}
      },
      "source": [
        "#call the function\n",
        "cleaned_text = []\n",
        "for t in raw_data_subset['review']:\n",
        "    cleaned_text.append(text_cleaner(t,0))"
      ],
      "execution_count": 0,
      "outputs": []
    },
    {
      "cell_type": "code",
      "metadata": {
        "id": "51LR754E3VuY",
        "colab_type": "code",
        "outputId": "c05eea83-3161-4276-d49b-5e23554733d4",
        "colab": {
          "base_uri": "https://localhost:8080/",
          "height": 101
        }
      },
      "source": [
        "cleaned_text[:5]"
      ],
      "execution_count": 15,
      "outputs": [
        {
          "output_type": "execute_result",
          "data": {
            "text/plain": [
              "['tires delivered garage choice garage notified delivered day time arranged garage went fitted hassel free experience',\n",
              " 'easy tyre selection process competitive pricing excellent fitting service',\n",
              " 'easy use good value money',\n",
              " 'really easy convenient arrange',\n",
              " 'easy select tyre sizes arrange local fitting prices competitive']"
            ]
          },
          "metadata": {
            "tags": []
          },
          "execution_count": 15
        }
      ]
    },
    {
      "cell_type": "code",
      "metadata": {
        "id": "8OfAAs9Q479g",
        "colab_type": "code",
        "outputId": "18194e54-3e35-43b7-95b5-dd38b2d4db11",
        "colab": {
          "base_uri": "https://localhost:8080/",
          "height": 101
        }
      },
      "source": [
        "#call the function\n",
        "cleaned_summary = []\n",
        "for t in raw_data_subset['sentiments']:\n",
        "    cleaned_summary.append(text_cleaner(t,1))\n",
        "cleaned_summary[:5]"
      ],
      "execution_count": 16,
      "outputs": [
        {
          "output_type": "execute_result",
          "data": {
            "text/plain": [
              "['garage service positive ease of booking positive',\n",
              " 'garage service positive value for money positive',\n",
              " 'value for money positive',\n",
              " 'ease of booking positive',\n",
              " 'location positive value for money positive ease of booking positive']"
            ]
          },
          "metadata": {
            "tags": []
          },
          "execution_count": 16
        }
      ]
    },
    {
      "cell_type": "code",
      "metadata": {
        "id": "DARZvsb86PK4",
        "colab_type": "code",
        "colab": {}
      },
      "source": [
        "#combined the cleaned review and sentiments again\n",
        "data = pd.DataFrame()\n",
        "data['review']=cleaned_text\n",
        "data['sentiments']=cleaned_summary"
      ],
      "execution_count": 0,
      "outputs": []
    },
    {
      "cell_type": "code",
      "metadata": {
        "id": "wN6YtXyB6k2P",
        "colab_type": "code",
        "outputId": "180c3315-0ed7-46bb-b477-ca57a6b8ea37",
        "colab": {
          "base_uri": "https://localhost:8080/",
          "height": 229
        }
      },
      "source": [
        "data.head()"
      ],
      "execution_count": 18,
      "outputs": [
        {
          "output_type": "execute_result",
          "data": {
            "text/html": [
              "<div>\n",
              "<style scoped>\n",
              "    .dataframe tbody tr th:only-of-type {\n",
              "        vertical-align: middle;\n",
              "    }\n",
              "\n",
              "    .dataframe tbody tr th {\n",
              "        vertical-align: top;\n",
              "    }\n",
              "\n",
              "    .dataframe thead th {\n",
              "        text-align: right;\n",
              "    }\n",
              "</style>\n",
              "<table border=\"1\" class=\"dataframe\">\n",
              "  <thead>\n",
              "    <tr style=\"text-align: right;\">\n",
              "      <th></th>\n",
              "      <th>review</th>\n",
              "      <th>sentiments</th>\n",
              "    </tr>\n",
              "  </thead>\n",
              "  <tbody>\n",
              "    <tr>\n",
              "      <th>0</th>\n",
              "      <td>tires delivered garage choice garage notified delivered day time arranged garage went fitted hassel free experience</td>\n",
              "      <td>garage service positive ease of booking positive</td>\n",
              "    </tr>\n",
              "    <tr>\n",
              "      <th>1</th>\n",
              "      <td>easy tyre selection process competitive pricing excellent fitting service</td>\n",
              "      <td>garage service positive value for money positive</td>\n",
              "    </tr>\n",
              "    <tr>\n",
              "      <th>2</th>\n",
              "      <td>easy use good value money</td>\n",
              "      <td>value for money positive</td>\n",
              "    </tr>\n",
              "    <tr>\n",
              "      <th>3</th>\n",
              "      <td>really easy convenient arrange</td>\n",
              "      <td>ease of booking positive</td>\n",
              "    </tr>\n",
              "    <tr>\n",
              "      <th>4</th>\n",
              "      <td>easy select tyre sizes arrange local fitting prices competitive</td>\n",
              "      <td>location positive value for money positive ease of booking positive</td>\n",
              "    </tr>\n",
              "  </tbody>\n",
              "</table>\n",
              "</div>"
            ],
            "text/plain": [
              "                                                                                                                review                                                           sentiments\n",
              "0  tires delivered garage choice garage notified delivered day time arranged garage went fitted hassel free experience  garage service positive ease of booking positive                   \n",
              "1  easy tyre selection process competitive pricing excellent fitting service                                            garage service positive value for money positive                   \n",
              "2  easy use good value money                                                                                            value for money positive                                           \n",
              "3  really easy convenient arrange                                                                                       ease of booking positive                                           \n",
              "4  easy select tyre sizes arrange local fitting prices competitive                                                      location positive value for money positive ease of booking positive"
            ]
          },
          "metadata": {
            "tags": []
          },
          "execution_count": 18
        }
      ]
    },
    {
      "cell_type": "code",
      "metadata": {
        "id": "Q2QiOIG0NxrE",
        "colab_type": "code",
        "colab": {}
      },
      "source": [
        "data.dropna(axis=0,inplace=True)"
      ],
      "execution_count": 0,
      "outputs": []
    },
    {
      "cell_type": "code",
      "metadata": {
        "id": "aKt9nrGRxIiL",
        "colab_type": "code",
        "colab": {
          "base_uri": "https://localhost:8080/",
          "height": 281
        },
        "outputId": "94ac827b-8bd3-41f3-8dbe-e1f6c2a5b9ea"
      },
      "source": [
        "# check the distribution of review and sentiments\n",
        "import matplotlib.pyplot as plt\n",
        "text_word_count = []\n",
        "summary_word_count = []\n",
        "\n",
        "# populate the lists with sentence lengths\n",
        "for i in data['review']:\n",
        "      text_word_count.append(len(i.split()))\n",
        "\n",
        "for i in data['sentiments']:\n",
        "      summary_word_count.append(len(i.split()))\n",
        "\n",
        "length_df = pd.DataFrame({'review':text_word_count, 'sentiments':summary_word_count})\n",
        "length_df.hist(bins = 30)\n",
        "plt.show()"
      ],
      "execution_count": 20,
      "outputs": [
        {
          "output_type": "display_data",
          "data": {
            "image/png": "[encoded data removed]",
            "text/plain": [
              "<Figure size 432x288 with 2 Axes>"
            ]
          },
          "metadata": {
            "tags": []
          }
        }
      ]
    },
    {
      "cell_type": "code",
      "metadata": {
        "id": "qCkj0DmyOQZC",
        "colab_type": "code",
        "colab": {}
      },
      "source": [
        "# above graph show that max lenght of review is 90 and sentiments is 12\n",
        "max_text_len=90\n",
        "max_summary_len=12"
      ],
      "execution_count": 0,
      "outputs": []
    },
    {
      "cell_type": "code",
      "metadata": {
        "id": "Sn6M8o_uOXXK",
        "colab_type": "code",
        "colab": {}
      },
      "source": [
        "# take reviews upto max 90 words and reviews upto 12 words\n",
        "cleaned_text =np.array(data['review'])\n",
        "cleaned_summary=np.array(data['sentiments'])\n",
        "\n",
        "short_text=[]\n",
        "short_summary=[]\n",
        "\n",
        "for i in range(len(cleaned_text)):\n",
        "    if(len(cleaned_summary[i].split())<=max_summary_len and len(cleaned_text[i].split())<=max_text_len):\n",
        "        short_text.append(cleaned_text[i])\n",
        "        short_summary.append(cleaned_summary[i])\n",
        "        \n",
        "df=pd.DataFrame({'review':short_text,'sentiments':short_summary})"
      ],
      "execution_count": 0,
      "outputs": []
    },
    {
      "cell_type": "code",
      "metadata": {
        "id": "U2GHhF4ZOegz",
        "colab_type": "code",
        "colab": {}
      },
      "source": [
        "#Remember to add the START and END special tokens at the beginning and end of the summary.\n",
        "# Here, I have chosen sostok and eostok as START and END tokens\n",
        "df['sentiments'] = df['sentiments'].apply(lambda x : 'sostok '+ x + ' eostok')"
      ],
      "execution_count": 0,
      "outputs": []
    },
    {
      "cell_type": "code",
      "metadata": {
        "id": "Qr6Ce6zGOkVj",
        "colab_type": "code",
        "outputId": "a5a53823-14ef-4e14-9977-b8a6afaec14e",
        "colab": {
          "base_uri": "https://localhost:8080/",
          "height": 229
        }
      },
      "source": [
        "df.head()"
      ],
      "execution_count": 29,
      "outputs": [
        {
          "output_type": "execute_result",
          "data": {
            "text/html": [
              "<div>\n",
              "<style scoped>\n",
              "    .dataframe tbody tr th:only-of-type {\n",
              "        vertical-align: middle;\n",
              "    }\n",
              "\n",
              "    .dataframe tbody tr th {\n",
              "        vertical-align: top;\n",
              "    }\n",
              "\n",
              "    .dataframe thead th {\n",
              "        text-align: right;\n",
              "    }\n",
              "</style>\n",
              "<table border=\"1\" class=\"dataframe\">\n",
              "  <thead>\n",
              "    <tr style=\"text-align: right;\">\n",
              "      <th></th>\n",
              "      <th>review</th>\n",
              "      <th>sentiments</th>\n",
              "    </tr>\n",
              "  </thead>\n",
              "  <tbody>\n",
              "    <tr>\n",
              "      <th>0</th>\n",
              "      <td>tires delivered garage choice garage notified delivered day time arranged garage went fitted hassel free experience</td>\n",
              "      <td>sostok garage service positive ease of booking positive eostok</td>\n",
              "    </tr>\n",
              "    <tr>\n",
              "      <th>1</th>\n",
              "      <td>easy tyre selection process competitive pricing excellent fitting service</td>\n",
              "      <td>sostok garage service positive value for money positive eostok</td>\n",
              "    </tr>\n",
              "    <tr>\n",
              "      <th>2</th>\n",
              "      <td>easy use good value money</td>\n",
              "      <td>sostok value for money positive eostok</td>\n",
              "    </tr>\n",
              "    <tr>\n",
              "      <th>3</th>\n",
              "      <td>really easy convenient arrange</td>\n",
              "      <td>sostok ease of booking positive eostok</td>\n",
              "    </tr>\n",
              "    <tr>\n",
              "      <th>4</th>\n",
              "      <td>easy select tyre sizes arrange local fitting prices competitive</td>\n",
              "      <td>sostok location positive value for money positive ease of booking positive eostok</td>\n",
              "    </tr>\n",
              "  </tbody>\n",
              "</table>\n",
              "</div>"
            ],
            "text/plain": [
              "                                                                                                                review                                                                         sentiments\n",
              "0  tires delivered garage choice garage notified delivered day time arranged garage went fitted hassel free experience  sostok garage service positive ease of booking positive eostok                   \n",
              "1  easy tyre selection process competitive pricing excellent fitting service                                            sostok garage service positive value for money positive eostok                   \n",
              "2  easy use good value money                                                                                            sostok value for money positive eostok                                           \n",
              "3  really easy convenient arrange                                                                                       sostok ease of booking positive eostok                                           \n",
              "4  easy select tyre sizes arrange local fitting prices competitive                                                      sostok location positive value for money positive ease of booking positive eostok"
            ]
          },
          "metadata": {
            "tags": []
          },
          "execution_count": 29
        }
      ]
    },
    {
      "cell_type": "code",
      "metadata": {
        "id": "hcwUVIo4O4zA",
        "colab_type": "code",
        "colab": {}
      },
      "source": [
        "# devide the data in training 90% and validation 10%\n",
        "from sklearn.model_selection import train_test_split\n",
        "x_tr,x_val,y_tr,y_val=train_test_split(np.array(df['review']),np.array(df['sentiments']),test_size=0.1,random_state=0,shuffle=True)"
      ],
      "execution_count": 0,
      "outputs": []
    },
    {
      "cell_type": "code",
      "metadata": {
        "id": "U_ZZwch5PePY",
        "colab_type": "code",
        "colab": {}
      },
      "source": [
        "from keras.preprocessing.text import Tokenizer \n",
        "from keras.preprocessing.sequence import pad_sequences\n",
        "\n",
        "#prepare a tokenizer for reviews on training data\n",
        "x_tokenizer = Tokenizer() \n",
        "x_tokenizer.fit_on_texts(list(x_tr))"
      ],
      "execution_count": 0,
      "outputs": []
    },
    {
      "cell_type": "code",
      "metadata": {
        "id": "LA7OAK9xPnIu",
        "colab_type": "code",
        "outputId": "0cd25170-3c19-42e9-81e4-1256d22d0aec",
        "colab": {
          "base_uri": "https://localhost:8080/",
          "height": 50
        }
      },
      "source": [
        "#Let us look at the proportion rare words and its total coverage in the entire text\n",
        "#Here, I am defining the threshold to be 3 which means word whose count is below 3 is considered as a rare word\n",
        "thresh=3\n",
        "\n",
        "cnt=0\n",
        "tot_cnt=0\n",
        "freq=0\n",
        "tot_freq=0\n",
        "\n",
        "for key,value in x_tokenizer.word_counts.items():\n",
        "    tot_cnt=tot_cnt+1\n",
        "    tot_freq=tot_freq+value\n",
        "    if(value<thresh):\n",
        "        cnt=cnt+1\n",
        "        freq=freq+value\n",
        "    \n",
        "print(\"% of rare words in vocabulary:\",(cnt/tot_cnt)*100)\n",
        "print(\"Total Coverage of rare words:\",(freq/tot_freq)*100)\n",
        "\n",
        "\n",
        "#'tot_cnt' gives the size of vocabulary (which means every unique words in the text)\n",
        "#'cnt' gives me the no. of rare words whose count falls below threshold\n",
        "#'tot_cnt - cnt' gives me the top most common words"
      ],
      "execution_count": 42,
      "outputs": [
        {
          "output_type": "stream",
          "text": [
            "% of rare words in vocabulary: 61.853486319505734\n",
            "Total Coverage of rare words: 4.014116403714048\n"
          ],
          "name": "stdout"
        }
      ]
    },
    {
      "cell_type": "code",
      "metadata": {
        "id": "QFLhBwoYP_de",
        "colab_type": "code",
        "colab": {}
      },
      "source": [
        "#prepare a tokenizer for reviews on training data\n",
        "x_tokenizer = Tokenizer(num_words=tot_cnt-cnt) \n",
        "x_tokenizer.fit_on_texts(list(x_tr))\n",
        "\n",
        "#convert text sequences into integer sequences\n",
        "x_tr_seq    =   x_tokenizer.texts_to_sequences(x_tr) \n",
        "x_val_seq   =   x_tokenizer.texts_to_sequences(x_val)\n",
        "\n",
        "#padding zero upto maximum length\n",
        "x_tr    =   pad_sequences(x_tr_seq,  maxlen=max_text_len, padding='post')\n",
        "x_val   =   pad_sequences(x_val_seq, maxlen=max_text_len, padding='post')\n",
        "\n",
        "#size of vocabulary ( +1 for padding token)\n",
        "x_voc   =  x_tokenizer.num_words + 1"
      ],
      "execution_count": 0,
      "outputs": []
    },
    {
      "cell_type": "code",
      "metadata": {
        "id": "BMXPnrhsQFP3",
        "colab_type": "code",
        "outputId": "ab2e60d7-6712-424b-e7a3-68bbec57539e",
        "colab": {
          "base_uri": "https://localhost:8080/",
          "height": 34
        }
      },
      "source": [
        "x_voc"
      ],
      "execution_count": 44,
      "outputs": [
        {
          "output_type": "execute_result",
          "data": {
            "text/plain": [
              "2162"
            ]
          },
          "metadata": {
            "tags": []
          },
          "execution_count": 44
        }
      ]
    },
    {
      "cell_type": "code",
      "metadata": {
        "id": "WWMF5thiQNsj",
        "colab_type": "code",
        "colab": {}
      },
      "source": [
        "#prepare a tokenizer for reviews on training data\n",
        "y_tokenizer = Tokenizer()   \n",
        "y_tokenizer.fit_on_texts(list(y_tr))"
      ],
      "execution_count": 0,
      "outputs": []
    },
    {
      "cell_type": "code",
      "metadata": {
        "id": "7KzTx6tqQWtU",
        "colab_type": "code",
        "outputId": "4c8f2d81-eaef-474f-cb56-4ee502d9e23a",
        "colab": {
          "base_uri": "https://localhost:8080/",
          "height": 50
        }
      },
      "source": [
        "thresh=3\n",
        "\n",
        "cnt=0\n",
        "tot_cnt=0\n",
        "freq=0\n",
        "tot_freq=0\n",
        "\n",
        "for key,value in y_tokenizer.word_counts.items():\n",
        "    tot_cnt=tot_cnt+1\n",
        "    tot_freq=tot_freq+value\n",
        "    if(value<thresh):\n",
        "        cnt=cnt+1\n",
        "        freq=freq+value\n",
        "    \n",
        "print(\"% of rare words in vocabulary:\",(cnt/tot_cnt)*100)\n",
        "print(\"Total Coverage of rare words:\",(freq/tot_freq)*100)"
      ],
      "execution_count": 46,
      "outputs": [
        {
          "output_type": "stream",
          "text": [
            "% of rare words in vocabulary: 0.0\n",
            "Total Coverage of rare words: 0.0\n"
          ],
          "name": "stdout"
        }
      ]
    },
    {
      "cell_type": "code",
      "metadata": {
        "id": "rbtwL389RgJ_",
        "colab_type": "code",
        "colab": {}
      },
      "source": [
        "#prepare a tokenizer for reviews on training data\n",
        "y_tokenizer = Tokenizer(num_words=tot_cnt-cnt) \n",
        "y_tokenizer.fit_on_texts(list(y_tr))\n",
        "\n",
        "#convert text sequences into integer sequences\n",
        "y_tr_seq    =   y_tokenizer.texts_to_sequences(y_tr) \n",
        "y_val_seq   =   y_tokenizer.texts_to_sequences(y_val) \n",
        "\n",
        "#padding zero upto maximum length\n",
        "y_tr    =   pad_sequences(y_tr_seq, maxlen=max_summary_len, padding='post')\n",
        "y_val   =   pad_sequences(y_val_seq, maxlen=max_summary_len, padding='post')\n",
        "\n",
        "#size of vocabulary\n",
        "y_voc  =   y_tokenizer.num_words +1"
      ],
      "execution_count": 0,
      "outputs": []
    },
    {
      "cell_type": "code",
      "metadata": {
        "id": "vpQWz92SRoxN",
        "colab_type": "code",
        "outputId": "faf851e3-69ff-4ba4-90bd-e9c0a531f842",
        "colab": {
          "base_uri": "https://localhost:8080/",
          "height": 34
        }
      },
      "source": [
        "#Let us check whether word count of start token is equal to length of the training data\n",
        "y_tokenizer.word_counts['sostok'],len(y_tr)"
      ],
      "execution_count": 48,
      "outputs": [
        {
          "output_type": "execute_result",
          "data": {
            "text/plain": [
              "(9072, 9072)"
            ]
          },
          "metadata": {
            "tags": []
          },
          "execution_count": 48
        }
      ]
    },
    {
      "cell_type": "code",
      "metadata": {
        "id": "vqKG6d9qRvun",
        "colab_type": "code",
        "colab": {}
      },
      "source": [
        "#Here, I am deleting the rows that contain only START and END tokens\n",
        "ind=[]\n",
        "for i in range(len(y_tr)):\n",
        "    cnt=0\n",
        "    for j in y_tr[i]:\n",
        "        if j!=0:\n",
        "            cnt=cnt+1\n",
        "    if(cnt==2):\n",
        "        ind.append(i)\n",
        "\n",
        "y_tr=np.delete(y_tr,ind, axis=0)\n",
        "x_tr=np.delete(x_tr,ind, axis=0)"
      ],
      "execution_count": 0,
      "outputs": []
    },
    {
      "cell_type": "code",
      "metadata": {
        "id": "OxTtXiPDR2wh",
        "colab_type": "code",
        "colab": {}
      },
      "source": [
        "ind=[]\n",
        "for i in range(len(y_val)):\n",
        "    cnt=0\n",
        "    for j in y_val[i]:\n",
        "        if j!=0:\n",
        "            cnt=cnt+1\n",
        "    if(cnt==2):\n",
        "        ind.append(i)\n",
        "\n",
        "y_val=np.delete(y_val,ind, axis=0)\n",
        "x_val=np.delete(x_val,ind, axis=0)"
      ],
      "execution_count": 0,
      "outputs": []
    },
    {
      "cell_type": "code",
      "metadata": {
        "id": "O-JjlBfBSWVY",
        "colab_type": "code",
        "outputId": "3586edd4-eaf9-4c03-b500-a0ba26e66ec6",
        "colab": {
          "base_uri": "https://localhost:8080/",
          "height": 1000
        }
      },
      "source": [
        "# Model Building\n",
        "from keras import backend as K \n",
        "K.clear_session()\n",
        "\n",
        "latent_dim = 300\n",
        "embedding_dim=100\n",
        "\n",
        "# Encoder\n",
        "encoder_inputs = Input(shape=(max_text_len,))\n",
        "\n",
        "#embedding layer\n",
        "enc_emb =  Embedding(x_voc, embedding_dim,trainable=True)(encoder_inputs)\n",
        "\n",
        "#encoder lstm 1\n",
        "encoder_lstm1 = LSTM(latent_dim,return_sequences=True,return_state=True,dropout=0.4,recurrent_dropout=0.4)\n",
        "encoder_output1, state_h1, state_c1 = encoder_lstm1(enc_emb)\n",
        "\n",
        "#encoder lstm 2\n",
        "encoder_lstm2 = LSTM(latent_dim,return_sequences=True,return_state=True,dropout=0.4,recurrent_dropout=0.4)\n",
        "encoder_output2, state_h2, state_c2 = encoder_lstm2(encoder_output1)\n",
        "\n",
        "#encoder lstm 3\n",
        "encoder_lstm3=LSTM(latent_dim, return_state=True, return_sequences=True,dropout=0.4,recurrent_dropout=0.4)\n",
        "encoder_outputs, state_h, state_c= encoder_lstm3(encoder_output2)\n",
        "\n",
        "# Set up the decoder, using `encoder_states` as initial state.\n",
        "decoder_inputs = Input(shape=(None,))\n",
        "\n",
        "#embedding layer\n",
        "dec_emb_layer = Embedding(y_voc, embedding_dim,trainable=True)\n",
        "dec_emb = dec_emb_layer(decoder_inputs)\n",
        "\n",
        "decoder_lstm = LSTM(latent_dim, return_sequences=True, return_state=True,dropout=0.4,recurrent_dropout=0.2)\n",
        "decoder_outputs,decoder_fwd_state, decoder_back_state = decoder_lstm(dec_emb,initial_state=[state_h, state_c])\n",
        "\n",
        "# Attention layer\n",
        "attn_layer = AttentionLayer(name='attention_layer')\n",
        "attn_out, attn_states = attn_layer([encoder_outputs, decoder_outputs])\n",
        "\n",
        "# Concat attention input and decoder LSTM output\n",
        "decoder_concat_input = Concatenate(axis=-1, name='concat_layer')([decoder_outputs, attn_out])\n",
        "\n",
        "#dense layer\n",
        "decoder_dense =  TimeDistributed(Dense(y_voc, activation='softmax'))\n",
        "decoder_outputs = decoder_dense(decoder_concat_input)\n",
        "\n",
        "# Define the model \n",
        "model = Model([encoder_inputs, decoder_inputs], decoder_outputs)\n",
        "\n",
        "model.summary()"
      ],
      "execution_count": 51,
      "outputs": [
        {
          "output_type": "stream",
          "text": [
            "WARNING:tensorflow:From /usr/local/lib/python3.6/dist-packages/keras/backend/tensorflow_backend.py:107: The name tf.reset_default_graph is deprecated. Please use tf.compat.v1.reset_default_graph instead.\n",
            "\n"
          ],
          "name": "stdout"
        },
        {
          "output_type": "stream",
          "text": [
            "From /usr/local/lib/python3.6/dist-packages/keras/backend/tensorflow_backend.py:107: The name tf.reset_default_graph is deprecated. Please use tf.compat.v1.reset_default_graph instead.\n",
            "\n"
          ],
          "name": "stderr"
        },
        {
          "output_type": "stream",
          "text": [
            "WARNING:tensorflow:From /usr/local/lib/python3.6/dist-packages/keras/backend/tensorflow_backend.py:111: The name tf.placeholder_with_default is deprecated. Please use tf.compat.v1.placeholder_with_default instead.\n",
            "\n"
          ],
          "name": "stdout"
        },
        {
          "output_type": "stream",
          "text": [
            "From /usr/local/lib/python3.6/dist-packages/keras/backend/tensorflow_backend.py:111: The name tf.placeholder_with_default is deprecated. Please use tf.compat.v1.placeholder_with_default instead.\n",
            "\n"
          ],
          "name": "stderr"
        },
        {
          "output_type": "stream",
          "text": [
            "WARNING:tensorflow:From /usr/local/lib/python3.6/dist-packages/keras/backend/tensorflow_backend.py:66: The name tf.get_default_graph is deprecated. Please use tf.compat.v1.get_default_graph instead.\n",
            "\n"
          ],
          "name": "stdout"
        },
        {
          "output_type": "stream",
          "text": [
            "From /usr/local/lib/python3.6/dist-packages/keras/backend/tensorflow_backend.py:66: The name tf.get_default_graph is deprecated. Please use tf.compat.v1.get_default_graph instead.\n",
            "\n"
          ],
          "name": "stderr"
        },
        {
          "output_type": "stream",
          "text": [
            "WARNING:tensorflow:From /usr/local/lib/python3.6/dist-packages/tensorflow_core/python/keras/initializers.py:119: calling RandomUniform.__init__ (from tensorflow.python.ops.init_ops) with dtype is deprecated and will be removed in a future version.\n",
            "Instructions for updating:\n",
            "Call initializer instance with the dtype argument instead of passing it to the constructor\n"
          ],
          "name": "stdout"
        },
        {
          "output_type": "stream",
          "text": [
            "From /usr/local/lib/python3.6/dist-packages/tensorflow_core/python/keras/initializers.py:119: calling RandomUniform.__init__ (from tensorflow.python.ops.init_ops) with dtype is deprecated and will be removed in a future version.\n",
            "Instructions for updating:\n",
            "Call initializer instance with the dtype argument instead of passing it to the constructor\n"
          ],
          "name": "stderr"
        },
        {
          "output_type": "stream",
          "text": [
            "WARNING:tensorflow:From /usr/local/lib/python3.6/dist-packages/tensorflow_core/python/ops/resource_variable_ops.py:1630: calling BaseResourceVariable.__init__ (from tensorflow.python.ops.resource_variable_ops) with constraint is deprecated and will be removed in a future version.\n",
            "Instructions for updating:\n",
            "If using Keras pass *_constraint arguments to layers.\n"
          ],
          "name": "stdout"
        },
        {
          "output_type": "stream",
          "text": [
            "From /usr/local/lib/python3.6/dist-packages/tensorflow_core/python/ops/resource_variable_ops.py:1630: calling BaseResourceVariable.__init__ (from tensorflow.python.ops.resource_variable_ops) with constraint is deprecated and will be removed in a future version.\n",
            "Instructions for updating:\n",
            "If using Keras pass *_constraint arguments to layers.\n"
          ],
          "name": "stderr"
        },
        {
          "output_type": "stream",
          "text": [
            "Model: \"model\"\n",
            "__________________________________________________________________________________________________\n",
            "Layer (type)                    Output Shape         Param #     Connected to                     \n",
            "==================================================================================================\n",
            "input_1 (InputLayer)            [(None, 90)]         0                                            \n",
            "__________________________________________________________________________________________________\n",
            "embedding (Embedding)           (None, 90, 100)      216200      input_1[0][0]                    \n",
            "__________________________________________________________________________________________________\n",
            "lstm (LSTM)                     [(None, 90, 300), (N 481200      embedding[0][0]                  \n",
            "__________________________________________________________________________________________________\n",
            "input_2 (InputLayer)            [(None, None)]       0                                            \n",
            "__________________________________________________________________________________________________\n",
            "lstm_1 (LSTM)                   [(None, 90, 300), (N 721200      lstm[0][0]                       \n",
            "__________________________________________________________________________________________________\n",
            "embedding_1 (Embedding)         (None, None, 100)    5900        input_2[0][0]                    \n",
            "__________________________________________________________________________________________________\n",
            "lstm_2 (LSTM)                   [(None, 90, 300), (N 721200      lstm_1[0][0]                     \n",
            "__________________________________________________________________________________________________\n",
            "lstm_3 (LSTM)                   [(None, None, 300),  481200      embedding_1[0][0]                \n",
            "                                                                 lstm_2[0][1]                     \n",
            "                                                                 lstm_2[0][2]                     \n",
            "__________________________________________________________________________________________________\n",
            "attention_layer (AttentionLayer ((None, None, 300),  180300      lstm_2[0][0]                     \n",
            "                                                                 lstm_3[0][0]                     \n",
            "__________________________________________________________________________________________________\n",
            "concat_layer (Concatenate)      (None, None, 600)    0           lstm_3[0][0]                     \n",
            "                                                                 attention_layer[0][0]            \n",
            "__________________________________________________________________________________________________\n",
            "time_distributed (TimeDistribut (None, None, 59)     35459       concat_layer[0][0]               \n",
            "==================================================================================================\n",
            "Total params: 2,842,659\n",
            "Trainable params: 2,842,659\n",
            "Non-trainable params: 0\n",
            "__________________________________________________________________________________________________\n"
          ],
          "name": "stdout"
        }
      ]
    },
    {
      "cell_type": "code",
      "metadata": {
        "id": "fKCXZhkKSipf",
        "colab_type": "code",
        "colab": {}
      },
      "source": [
        "# I am using sparse categorical cross-entropy as the loss function since it converts the integer sequence \n",
        "# to a one-hot vector on the fly. This overcomes any memory issues\n",
        "model.compile(optimizer='rmsprop', loss='sparse_categorical_crossentropy')"
      ],
      "execution_count": 0,
      "outputs": []
    },
    {
      "cell_type": "code",
      "metadata": {
        "id": "oFH2J0fxSnMx",
        "colab_type": "code",
        "colab": {}
      },
      "source": [
        "#  Here, I am monitoring the validation loss (val_loss). Our model will stop training once the validation loss increases\n",
        "es = EarlyStopping(monitor='val_loss', mode='min', verbose=1,patience=2)"
      ],
      "execution_count": 0,
      "outputs": []
    },
    {
      "cell_type": "code",
      "metadata": {
        "id": "QrcY3kfNSuu1",
        "colab_type": "code",
        "outputId": "4c685540-e84c-4cf4-897b-eb23e4a7537e",
        "colab": {
          "base_uri": "https://localhost:8080/",
          "height": 810
        }
      },
      "source": [
        "# We’ll train the model on a batch size of 128 and validate it on the holdout set (which is 10% of our dataset)\n",
        "history=model.fit([x_tr,y_tr[:,:-1]], y_tr.reshape(y_tr.shape[0],y_tr.shape[1], 1)[:,1:] ,epochs=50,callbacks=[es],batch_size=128, validation_data=([x_val,y_val[:,:-1]], y_val.reshape(y_val.shape[0],y_val.shape[1], 1)[:,1:]))"
      ],
      "execution_count": 54,
      "outputs": [
        {
          "output_type": "stream",
          "text": [
            "WARNING:tensorflow:From /usr/local/lib/python3.6/dist-packages/tensorflow_core/python/ops/math_grad.py:1424: where (from tensorflow.python.ops.array_ops) is deprecated and will be removed in a future version.\n",
            "Instructions for updating:\n",
            "Use tf.where in 2.0, which has the same broadcast rule as np.where\n"
          ],
          "name": "stdout"
        },
        {
          "output_type": "stream",
          "text": [
            "From /usr/local/lib/python3.6/dist-packages/tensorflow_core/python/ops/math_grad.py:1424: where (from tensorflow.python.ops.array_ops) is deprecated and will be removed in a future version.\n",
            "Instructions for updating:\n",
            "Use tf.where in 2.0, which has the same broadcast rule as np.where\n"
          ],
          "name": "stderr"
        },
        {
          "output_type": "stream",
          "text": [
            "Train on 7266 samples, validate on 808 samples\n",
            "Epoch 1/50\n",
            "7266/7266 [==============================] - 455s 63ms/sample - loss: 1.8355 - val_loss: 1.1588\n",
            "Epoch 2/50\n",
            "7266/7266 [==============================] - 446s 61ms/sample - loss: 0.8228 - val_loss: 0.5886\n",
            "Epoch 3/50\n",
            "7266/7266 [==============================] - 448s 62ms/sample - loss: 0.5316 - val_loss: 0.4625\n",
            "Epoch 4/50\n",
            "7266/7266 [==============================] - 482s 66ms/sample - loss: 0.4470 - val_loss: 0.4279\n",
            "Epoch 5/50\n",
            "7266/7266 [==============================] - 443s 61ms/sample - loss: 0.4049 - val_loss: 0.3711\n",
            "Epoch 6/50\n",
            "7266/7266 [==============================] - 445s 61ms/sample - loss: 0.3779 - val_loss: 0.3475\n",
            "Epoch 7/50\n",
            "7266/7266 [==============================] - 447s 62ms/sample - loss: 0.3561 - val_loss: 0.3391\n",
            "Epoch 8/50\n",
            "7266/7266 [==============================] - 446s 61ms/sample - loss: 0.3333 - val_loss: 0.3190\n",
            "Epoch 9/50\n",
            "7266/7266 [==============================] - 437s 60ms/sample - loss: 0.3197 - val_loss: 0.3126\n",
            "Epoch 10/50\n",
            "7266/7266 [==============================] - 440s 61ms/sample - loss: 0.3034 - val_loss: 0.2947\n",
            "Epoch 11/50\n",
            "7266/7266 [==============================] - 440s 61ms/sample - loss: 0.2898 - val_loss: 0.2936\n",
            "Epoch 12/50\n",
            "7266/7266 [==============================] - 435s 60ms/sample - loss: 0.2802 - val_loss: 0.2825\n",
            "Epoch 13/50\n",
            "7266/7266 [==============================] - 437s 60ms/sample - loss: 0.2712 - val_loss: 0.2758\n",
            "Epoch 14/50\n",
            "7266/7266 [==============================] - 441s 61ms/sample - loss: 0.2606 - val_loss: 0.2766\n",
            "Epoch 15/50\n",
            "7266/7266 [==============================] - 438s 60ms/sample - loss: 0.2540 - val_loss: 0.2740\n",
            "Epoch 16/50\n",
            "7266/7266 [==============================] - 441s 61ms/sample - loss: 0.2454 - val_loss: 0.2711\n",
            "Epoch 17/50\n",
            "7266/7266 [==============================] - 441s 61ms/sample - loss: 0.2386 - val_loss: 0.2674\n",
            "Epoch 18/50\n",
            "7266/7266 [==============================] - 436s 60ms/sample - loss: 0.2318 - val_loss: 0.2685\n",
            "Epoch 19/50\n",
            "7266/7266 [==============================] - 437s 60ms/sample - loss: 0.2255 - val_loss: 0.2699\n",
            "Epoch 00019: early stopping\n"
          ],
          "name": "stdout"
        }
      ]
    },
    {
      "cell_type": "code",
      "metadata": {
        "id": "rQt8rAdI2NRp",
        "colab_type": "code",
        "outputId": "eddf8e58-4206-4b6f-ac33-d86255282de7",
        "colab": {
          "base_uri": "https://localhost:8080/",
          "height": 265
        }
      },
      "source": [
        "from matplotlib import pyplot\n",
        "pyplot.plot(history.history['loss'], label='train')\n",
        "pyplot.plot(history.history['val_loss'], label='test')\n",
        "pyplot.legend()\n",
        "pyplot.show()"
      ],
      "execution_count": 55,
      "outputs": [
        {
          "output_type": "display_data",
          "data": {
            "image/png": "[encoded data removed]",
            "text/plain": [
              "<Figure size 432x288 with 1 Axes>"
            ]
          },
          "metadata": {
            "tags": []
          }
        }
      ]
    },
    {
      "cell_type": "code",
      "metadata": {
        "id": "hmrUVsGdn1sp",
        "colab_type": "code",
        "colab": {}
      },
      "source": [
        "# woooooh getting traing / validation accuracy around 97.5 %"
      ],
      "execution_count": 0,
      "outputs": []
    },
    {
      "cell_type": "code",
      "metadata": {
        "id": "aGOCOdZd255A",
        "colab_type": "code",
        "colab": {}
      },
      "source": [
        "history.model.save('model.h5')"
      ],
      "execution_count": 0,
      "outputs": []
    },
    {
      "cell_type": "code",
      "metadata": {
        "id": "qpL_rA6u4w7C",
        "colab_type": "code",
        "colab": {}
      },
      "source": [
        "# let’s build the dictionary to convert the index to word for target and source vocabulary\n",
        "reverse_target_word_index=y_tokenizer.index_word\n",
        "reverse_source_word_index=x_tokenizer.index_word\n",
        "target_word_index=y_tokenizer.word_index"
      ],
      "execution_count": 0,
      "outputs": []
    },
    {
      "cell_type": "code",
      "metadata": {
        "id": "aMt3dgBD443a",
        "colab_type": "code",
        "colab": {}
      },
      "source": [
        "# Set up the inference for the encoder and decoder\n",
        "# Encode the input sequence to get the feature vector\n",
        "encoder_model = Model(inputs=encoder_inputs,outputs=[encoder_outputs, state_h, state_c])\n",
        "\n",
        "# Decoder setup\n",
        "# Below tensors will hold the states of the previous time step\n",
        "decoder_state_input_h = Input(shape=(latent_dim,))\n",
        "decoder_state_input_c = Input(shape=(latent_dim,))\n",
        "decoder_hidden_state_input = Input(shape=(max_text_len,latent_dim))\n",
        "\n",
        "# Get the embeddings of the decoder sequence\n",
        "dec_emb2= dec_emb_layer(decoder_inputs) \n",
        "# To predict the next word in the sequence, set the initial states to the states from the previous time step\n",
        "decoder_outputs2, state_h2, state_c2 = decoder_lstm(dec_emb2, initial_state=[decoder_state_input_h, decoder_state_input_c])\n",
        "\n",
        "#attention inference\n",
        "attn_out_inf, attn_states_inf = attn_layer([decoder_hidden_state_input, decoder_outputs2])\n",
        "decoder_inf_concat = Concatenate(axis=-1, name='concat')([decoder_outputs2, attn_out_inf])\n",
        "\n",
        "# A dense softmax layer to generate prob dist. over the target vocabulary\n",
        "decoder_outputs2 = decoder_dense(decoder_inf_concat) \n",
        "\n",
        "# Final decoder model\n",
        "decoder_model = Model(\n",
        "    [decoder_inputs] + [decoder_hidden_state_input,decoder_state_input_h, decoder_state_input_c],\n",
        "    [decoder_outputs2] + [state_h2, state_c2])"
      ],
      "execution_count": 0,
      "outputs": []
    },
    {
      "cell_type": "code",
      "metadata": {
        "id": "4NxIOF1u59gO",
        "colab_type": "code",
        "colab": {}
      },
      "source": [
        "# We are defining a function below which is the implementation of the inference process \n",
        "def decode_sequence(input_seq):\n",
        "    # Encode the input as state vectors.\n",
        "    e_out, e_h, e_c = encoder_model.predict(input_seq)\n",
        "    \n",
        "    # Generate empty target sequence of length 1.\n",
        "    target_seq = np.zeros((1,1))\n",
        "    \n",
        "    # Populate the first word of target sequence with the start word.\n",
        "    target_seq[0, 0] = target_word_index['sostok']\n",
        "\n",
        "    stop_condition = False\n",
        "    decoded_sentence = ''\n",
        "    while not stop_condition:\n",
        "      \n",
        "        output_tokens, h, c = decoder_model.predict([target_seq] + [e_out, e_h, e_c])\n",
        "\n",
        "        # Sample a token\n",
        "        sampled_token_index = np.argmax(output_tokens[0, -1, :])\n",
        "        sampled_token = reverse_target_word_index[sampled_token_index]\n",
        "        \n",
        "        if(sampled_token!='eostok'):\n",
        "            decoded_sentence += ' '+sampled_token\n",
        "\n",
        "        # Exit condition: either hit max length or find stop word.\n",
        "        if (sampled_token == 'eostok'  or len(decoded_sentence.split()) >= (max_summary_len-1)):\n",
        "            stop_condition = True\n",
        "\n",
        "        # Update the target sequence (of length 1).\n",
        "        target_seq = np.zeros((1,1))\n",
        "        target_seq[0, 0] = sampled_token_index\n",
        "\n",
        "        # Update internal states\n",
        "        e_h, e_c = h, c\n",
        "\n",
        "    return decoded_sentence"
      ],
      "execution_count": 0,
      "outputs": []
    },
    {
      "cell_type": "code",
      "metadata": {
        "id": "a3K5GnTw6IcX",
        "colab_type": "code",
        "colab": {}
      },
      "source": [
        "# Let us define the functions to convert an integer sequence to a word sequence for sentiments as well as the reviews\n",
        "def seq2summary(input_seq):\n",
        "    newString=''\n",
        "    for i in input_seq:\n",
        "        if((i!=0 and i!=target_word_index['sostok']) and i!=target_word_index['eostok']):\n",
        "            newString=newString+reverse_target_word_index[i]+' '\n",
        "    return newString\n",
        "\n",
        "def seq2text(input_seq):\n",
        "    newString=''\n",
        "    for i in input_seq:\n",
        "        if(i!=0):\n",
        "            newString=newString+reverse_source_word_index[i]+' '\n",
        "    return newString"
      ],
      "execution_count": 0,
      "outputs": []
    },
    {
      "cell_type": "code",
      "metadata": {
        "id": "AvjOGtAn6RMM",
        "colab_type": "code",
        "outputId": "69a8bf5b-b9fe-4e64-90a5-f0494e5be1c8",
        "colab": {
          "base_uri": "https://localhost:8080/",
          "height": 1000
        }
      },
      "source": [
        "# Lets checks few sentiments generated by the model:\n",
        "for i in range(0,50):\n",
        "    print(\"Review:\",seq2text(x_tr[i]))\n",
        "    print(\"Original summary:\",seq2summary(y_tr[i]))\n",
        "    print(\"Predicted summary:\",decode_sequence(x_tr[i].reshape(1,max_text_len)))\n",
        "    print(\"\\n\")"
      ],
      "execution_count": 62,
      "outputs": [
        {
          "output_type": "stream",
          "text": [
            "Review: booked day fitted told delivered time given another date date told wait days lost work days \n",
            "Original summary: ease of booking negative change of date negative delivery punctuality negative \n",
            "Predicted summary:  change of date negative ease of booking negative\n",
            "\n",
            "\n",
            "Review: easy order book tyre fitting locally \n",
            "Original summary: ease of booking positive location positive \n",
            "Predicted summary:  ease of booking positive location positive\n",
            "\n",
            "\n",
            "Review: good quality tyres competitive price process selecting quick easy garage chose fitted tyres quickly efficiently within hour \n",
            "Original summary: tyre quality positive value for money positive length of fitting positive \n",
            "Predicted summary:  length of fitting positive value for money positive\n",
            "\n",
            "\n",
            "Review: good reliable realistic prices \n",
            "Original summary: value for money positive \n",
            "Predicted summary:  value for money positive\n",
            "\n",
            "\n",
            "Review: attractive price spot service excellent fitting partner nothing find fault \n",
            "Original summary: value for money positive garage service positive \n",
            "Predicted summary:  value for money positive garage service positive\n",
            "\n",
            "\n",
            "Review: issues using redacted pick tyre want pick fitting centre would like use simple \n",
            "Original summary: ease of booking positive \n",
            "Predicted summary:  ease of booking positive\n",
            "\n",
            "\n",
            "Review: consistently great brands fantastic prices choice outstanding fitting centres date time choice coupled outstanding customer service else could ask used redacted years cannot fault take great pride service seem use best fitting centres get exactly expect time time \n",
            "Original summary: value for money positive location positive \n",
            "Predicted summary:  ease of booking positive value for money positive\n",
            "\n",
            "\n",
            "Review: easy booked online chose date fitting local autocentre sorted got easy experience round \n",
            "Original summary: ease of booking positive location positive \n",
            "Predicted summary:  ease of booking positive location positive\n",
            "\n",
            "\n",
            "Review: used many times easy use easy arrange fitting good prices \n",
            "Original summary: value for money positive ease of booking positive \n",
            "Predicted summary:  ease of booking positive value for money positive\n",
            "\n",
            "\n",
            "Review: hassle free good service price \n",
            "Original summary: value for money positive \n",
            "Predicted summary:  value for money positive\n",
            "\n",
            "\n",
            "Review: got tyres wanted cheapest price could find offered range fitting stations choose \n",
            "Original summary: value for money positive \n",
            "Predicted summary:  value for money positive\n",
            "\n",
            "\n",
            "Review: good price choice easy use \n",
            "Original summary: value for money positive \n",
            "Predicted summary:  value for money positive\n",
            "\n",
            "\n",
            "Review: service received first class cost competitive \n",
            "Original summary: value for money positive \n",
            "Predicted summary:  value for money positive\n",
            "\n",
            "\n",
            "Review: good price good fitting experience mr tyre \n",
            "Original summary: value for money positive garage service positive \n",
            "Predicted summary:  value for money positive garage service positive\n",
            "\n",
            "\n",
            "Review: easy use easy book competitive pricing \n",
            "Original summary: ease of booking positive value for money positive \n",
            "Predicted summary:  ease of booking positive value for money positive\n",
            "\n",
            "\n",
            "Review: really good price tyres good fitting service \n",
            "Original summary: value for money positive \n",
            "Predicted summary:  value for money positive\n",
            "\n",
            "\n",
            "Review: good price good service \n",
            "Original summary: value for money positive \n",
            "Predicted summary:  value for money positive\n",
            "\n",
            "\n",
            "Review: good price good selection tyres easy browse \n",
            "Original summary: value for money positive \n",
            "Predicted summary:  value for money positive\n",
            "\n",
            "\n",
            "Review: easy use website really great price \n",
            "Original summary: value for money positive \n",
            "Predicted summary:  value for money positive\n",
            "\n",
            "\n",
            "Review: great value easy order get fitted repeat customer \n",
            "Original summary: value for money positive \n",
            "Predicted summary:  value for money positive\n",
            "\n",
            "\n",
            "Review: michelin runflats best prices good discounted prices michelin tyres used good local fitter used redacted complaints problem \n",
            "Original summary: value for money positive garage service positive location positive \n",
            "Predicted summary:  value for money positive location positive\n",
            "\n",
            "\n",
            "Review: excellent customer service friendly staff fitted time quickly used twice continue get tyres redacted \n",
            "Original summary: advisoragent service positive garage service positive \n",
            "Predicted summary:  advisoragent service positive\n",
            "\n",
            "\n",
            "Review: need tread carefully redacted tyres best value range also get timed appointment local tyre fitting service best check day confirmation sometimes delayed \n",
            "Original summary: value for money positive location positive \n",
            "Predicted summary:  value for money positive ease of booking positive location positive\n",
            "\n",
            "\n",
            "Review: extremely good range tyres sizes good prices booking simple good range local fitters convenient appointments \n",
            "Original summary: ease of booking positive value for money positive location positive \n",
            "Predicted summary:  ease of booking positive value for money positive location positive\n",
            "\n",
            "\n",
            "Review: quick easy use found car garage right work convenient \n",
            "Original summary: location positive \n",
            "Predicted summary:  ease of booking positive\n",
            "\n",
            "\n",
            "Review: cheapest could find easy use website fitting bookable quick service excellent range products choose \n",
            "Original summary: value for money positive \n",
            "Predicted summary:  value for money positive\n",
            "\n",
            "\n",
            "Review: great choice quick service excellent garage fitting \n",
            "Original summary: garage service positive \n",
            "Predicted summary:  garage service positive\n",
            "\n",
            "\n",
            "Review: easy book simple fit many garages choose simple hassle free \n",
            "Original summary: location positive ease of booking positive garage service positive \n",
            "Predicted summary:  ease of booking positive\n",
            "\n",
            "\n",
            "Review: reasonable prices useful information web site carefully fitted use recommend anyone \n",
            "Original summary: garage service positive value for money positive \n",
            "Predicted summary:  value for money positive\n",
            "\n",
            "\n",
            "Review: easy order great service local fitter definitely use \n",
            "Original summary: garage service positive location positive \n",
            "Predicted summary:  location positive\n",
            "\n",
            "\n",
            "Review: excellent service every time used great value money \n",
            "Original summary: value for money positive \n",
            "Predicted summary:  value for money positive\n",
            "\n",
            "\n",
            "Review: easy buy fuss job done time arranged happy price flexible fitter \n",
            "Original summary: wait time positive value for money positive \n",
            "Predicted summary:  ease of booking positive value for money positive\n",
            "\n",
            "\n",
            "Review: easily order price reasonable garage quick great job \n",
            "Original summary: value for money positive garage service positive \n",
            "Predicted summary:  value for money positive garage service positive\n",
            "\n",
            "\n",
            "Review: always excellent service chose mobile home fitting service brilliant time provided prompt \n",
            "Original summary: mobile fitter positive length of fitting positive \n",
            "Predicted summary:  mobile fitter positive\n",
            "\n",
            "\n",
            "Review: superb easy use cheaper quoted garage actually fitted definitely recommend \n",
            "Original summary: garage service positive value for money positive \n",
            "Predicted summary:  value for money positive\n",
            "\n",
            "\n",
            "Review: online site worked efficiently broad choice tyres good email response query everything worked supposed reassuring aspect service \n",
            "Original summary: response time positive \n",
            "Predicted summary:  delivery punctuality positive\n",
            "\n",
            "\n",
            "Review: cheaper way buy tyres \n",
            "Original summary: value for money positive \n",
            "Predicted summary:  value for money positive\n",
            "\n",
            "\n",
            "Review: order lasted long time garage make wheel \n",
            "Original summary: garage service negative \n",
            "Predicted summary:  garage service negative\n",
            "\n",
            "\n",
            "Review: quick easy order tyres turned designated garage changed tyres hassle \n",
            "Original summary: garage service positive \n",
            "Predicted summary:  garage service negative\n",
            "\n",
            "\n",
            "Review: great service low price local garage \n",
            "Original summary: value for money positive garage service positive \n",
            "Predicted summary:  value for money positive location positive\n",
            "\n",
            "\n",
            "Review: tyre order delayed bit frustrating rescheduled called garage fitting tyre managed get following day good great prices customer service \n",
            "Original summary: value for money positive advisoragent service positive change of date positive \n",
            "Predicted summary:  delivery punctuality negative value for money positive\n",
            "\n",
            "\n",
            "Review: simple use ordering tyres given garages picked closest messaged appointment within days work done waited happy start finish \n",
            "Original summary: location positive wait time positive \n",
            "Predicted summary:  location positive ease of booking positive\n",
            "\n",
            "\n",
            "Review: fault redacted ordering system availability tyres however feel properly standard service given garages twice recently poor service garage fitted tyres second occasion could resulted dangerous failure garage properly tighten wheel nuts due job apparently left result using garage purpose \n",
            "Original summary: garage service negative \n",
            "Predicted summary:  garage service negative\n",
            "\n",
            "\n",
            "Review: excellent prices quality brand tyres although would nice could choose fitting time rather pm option \n",
            "Original summary: tyre quality positive value for money positive ease of booking negative \n",
            "Predicted summary:  value for money positive ease of booking negative\n",
            "\n",
            "\n",
            "Review: happy price paid fitted tyre time use sure \n",
            "Original summary: value for money positive wait time positive \n",
            "Predicted summary:  value for money positive\n",
            "\n",
            "\n",
            "Review: good prices easily arranged fitting need anymore \n",
            "Original summary: value for money positive ease of booking positive \n",
            "Predicted summary:  value for money positive ease of booking positive\n",
            "\n",
            "\n",
            "Review: happy tyres supplied fitted \n",
            "Original summary: tyre quality positive \n",
            "Predicted summary:  garage service positive\n",
            "\n",
            "\n",
            "Review: efficient service garage used \n",
            "Original summary: garage service positive \n",
            "Predicted summary:  garage service positive\n",
            "\n",
            "\n",
            "Review: unbeatable price far really easy fuss like ordered tyres booked time turned time got fitted easy \n",
            "Original summary: ease of booking positive value for money positive wait time positive \n",
            "Predicted summary:  ease of booking positive value for money positive\n",
            "\n",
            "\n",
            "Review: company broke tyre sensor fitting tyres garage refused even consider caused damage offer look even though broke within miles tyres changed use another garage addition fee fix tyres well able drive car found issue quickly confirmed tyre sensor broken tyres fitted previous garage would avoid cost look elsewhere slightly cheaper tyres worth car broken hassle fix \n",
            "Original summary: extra charges negative damage negative garage service negative \n",
            "Predicted summary:  extra charges negative value for money negative\n",
            "\n",
            "\n"
          ],
          "name": "stdout"
        }
      ]
    },
    {
      "cell_type": "code",
      "metadata": {
        "id": "56edtatk68ex",
        "colab_type": "code",
        "colab": {}
      },
      "source": [
        "# create data frame with consist of reviews, Actual Sentiments and Predicted Sentiments\n",
        "result = pd.DataFrame({'Review': [], 'Actual Sentiments': [], 'Predicted Sentiments': []})\n",
        "for i in range(0,7266):\n",
        "    result = result.append({'Review': seq2text(x_tr[i]), 'Actual Sentiments': seq2summary(y_tr[i]), 'Predicted Sentiments': decode_sequence(x_tr[i].reshape(1,max_text_len))}, ignore_index=True)"
      ],
      "execution_count": 0,
      "outputs": []
    },
    {
      "cell_type": "code",
      "metadata": {
        "id": "OOER0z7D82bX",
        "colab_type": "code",
        "colab": {}
      },
      "source": [
        "#Save final result in \"Result.csv\"\n",
        "result.to_csv(\"Result.csv\", index=False)"
      ],
      "execution_count": 0,
      "outputs": []
    }
  ]
}